{
 "cells": [
  {
   "cell_type": "markdown",
   "metadata": {},
   "source": [
    "# Gender classification"
   ]
  },
  {
   "cell_type": "markdown",
   "metadata": {},
   "source": [
    "## Libraries"
   ]
  },
  {
   "cell_type": "code",
   "execution_count": 1,
   "metadata": {},
   "outputs": [],
   "source": [
    "import tarfile\n",
    "import os\n",
    "import pandas as pd\n",
    "import numpy as np\n",
    "import librosa\n",
    "import matplotlib.pyplot as plt\n",
    "import soundfile as sf\n",
    "import opensmile\n",
    "import torch\n",
    "import torch.nn as nn\n",
    "import torch.optim as optim\n",
    "from torch.utils.data import DataLoader, Dataset\n",
    "from sklearn.model_selection import train_test_split\n",
    "from torchinfo import summary\n",
    "from tqdm import tqdm"
   ]
  },
  {
   "cell_type": "markdown",
   "metadata": {},
   "source": [
    "## Default Device"
   ]
  },
  {
   "cell_type": "code",
   "execution_count": 2,
   "metadata": {},
   "outputs": [
    {
     "name": "stdout",
     "output_type": "stream",
     "text": [
      "NVIDIA GeForce GTX 1660 Ti\n"
     ]
    }
   ],
   "source": [
    "if torch.cuda.is_available(): print(torch.cuda.get_device_name())\n",
    "else: print('cpu')\n",
    "default_device = 'cuda' if torch.cuda.is_available() else 'cpu'"
   ]
  },
  {
   "cell_type": "markdown",
   "metadata": {},
   "source": [
    "## Extract .tar.gz file"
   ]
  },
  {
   "cell_type": "code",
   "execution_count": 3,
   "metadata": {},
   "outputs": [],
   "source": [
    "input_tar_gz_file  = 'cv-corpus-12.0-delta-2022-12-07-en.tar.gz'\n",
    "output_dir  = 'extracted_files'"
   ]
  },
  {
   "cell_type": "code",
   "execution_count": 4,
   "metadata": {},
   "outputs": [],
   "source": [
    "# Create the output folder if it doesn't exist\n",
    "os.makedirs(output_dir , exist_ok=True)"
   ]
  },
  {
   "cell_type": "code",
   "execution_count": 5,
   "metadata": {},
   "outputs": [],
   "source": [
    "# Open the .tar.gz file\n",
    "with tarfile.open(input_tar_gz_file, 'r:gz') as tar:\n",
    "    tar.extractall(path=output_dir)"
   ]
  },
  {
   "cell_type": "markdown",
   "metadata": {},
   "source": [
    "## Open Dataset"
   ]
  },
  {
   "cell_type": "code",
   "execution_count": 6,
   "metadata": {},
   "outputs": [],
   "source": [
    "df = pd.read_csv('./extracted_files/cv-corpus-12.0-delta-2022-12-07/en/other.tsv', sep='\\t')\n",
    "df = df[df['gender'].isin(['male', 'female'])]\n",
    "filtered_df = df[['path', 'gender']]\n",
    "filtered_df.loc[:, 'gender'] = filtered_df['gender'].map({'male': 1, 'female': 0})"
   ]
  },
  {
   "cell_type": "markdown",
   "metadata": {},
   "source": [
    "## Add gaussian noise for data augmentation"
   ]
  },
  {
   "cell_type": "code",
   "execution_count": 7,
   "metadata": {},
   "outputs": [],
   "source": [
    "def add_gaussian_noise(signal, noise_level=0.005):\n",
    "    \"\"\"Add Gaussian noise to the signal\"\"\"\n",
    "    noise = np.random.normal(0, noise_level, len(signal))\n",
    "    return signal + noise"
   ]
  },
  {
   "cell_type": "code",
   "execution_count": 8,
   "metadata": {},
   "outputs": [],
   "source": [
    "sound_dir = './extracted_files/cv-corpus-12.0-delta-2022-12-07/en/clips'"
   ]
  },
  {
   "cell_type": "code",
   "execution_count": 12,
   "metadata": {},
   "outputs": [],
   "source": [
    "for index, row in filtered_df[filtered_df['gender'] == 0].iterrows():\n",
    "    \n",
    "    waveform, sr = librosa.load(f'{sound_dir}/{row['path']}')\n",
    "    noisy = add_gaussian_noise(waveform)\n",
    "\n",
    "    sf.write(f'{sound_dir}/noisy_{row['path'].split('.')[0]}.wav', noisy, sr)\n",
    "\n",
    "    new_row = pd.DataFrame({'path': [f'noisy_{row['path'].split('.')[0]}.wav'], 'gender': [0]})\n",
    "\n",
    "    filtered_df = pd.concat([filtered_df, new_row], ignore_index=True)"
   ]
  },
  {
   "cell_type": "code",
   "execution_count": 13,
   "metadata": {},
   "outputs": [
    {
     "data": {
      "text/plain": [
       "gender\n",
       "1    16911\n",
       "0    11136\n",
       "Name: count, dtype: int64"
      ]
     },
     "execution_count": 13,
     "metadata": {},
     "output_type": "execute_result"
    }
   ],
   "source": [
    "filtered_df['gender'].value_counts()"
   ]
  },
  {
   "cell_type": "markdown",
   "metadata": {},
   "source": [
    "## Feature extraction"
   ]
  },
  {
   "cell_type": "code",
   "execution_count": 17,
   "metadata": {},
   "outputs": [],
   "source": [
    "paths, labels = np.array(filtered_df['path']), np.array(filtered_df['gender'])"
   ]
  },
  {
   "cell_type": "code",
   "execution_count": 19,
   "metadata": {},
   "outputs": [],
   "source": [
    "target_sr = 16000\n",
    "\n",
    "smile = opensmile.Smile(feature_set=opensmile.FeatureSet.emobase,\n",
    "                        feature_level=opensmile.FeatureLevel.Functionals,\n",
    "                        sampling_rate=target_sr)"
   ]
  },
  {
   "cell_type": "code",
   "execution_count": 83,
   "metadata": {},
   "outputs": [],
   "source": [
    "for index, row in filtered_df.iterrows():\n",
    "\n",
    "    waveform, _ = librosa.load(f'{sound_dir}/{row['path']}')\n",
    "    waveform = librosa.resample(waveform, orig_sr=sr, target_sr=target_sr)\n",
    "    \n",
    "    features = smile(waveform, target_sr).reshape([len(smile.feature_names),])\n",
    "\n",
    "    if index == 0: \n",
    "        features_df = pd.DataFrame([list(features) + [row['gender']]], columns=smile.feature_names + ['gender'])\n",
    "    else:\n",
    "        new_row = pd.DataFrame([list(features) + [row['gender']]], columns=smile.feature_names + ['gender'])\n",
    "        features_df = pd.concat([features_df, new_row], ignore_index=True)"
   ]
  },
  {
   "cell_type": "code",
   "execution_count": 100,
   "metadata": {},
   "outputs": [
    {
     "data": {
      "text/plain": [
       "gender\n",
       "1    16911\n",
       "0    11136\n",
       "Name: count, dtype: int64"
      ]
     },
     "execution_count": 100,
     "metadata": {},
     "output_type": "execute_result"
    }
   ],
   "source": [
    "features_df['gender'].value_counts()"
   ]
  },
  {
   "cell_type": "code",
   "execution_count": 101,
   "metadata": {},
   "outputs": [],
   "source": [
    "features_df.to_csv('features_df.csv', index=False)"
   ]
  },
  {
   "cell_type": "code",
   "execution_count": 104,
   "metadata": {},
   "outputs": [],
   "source": [
    "features_df = pd.read_csv('features_df.csv')"
   ]
  },
  {
   "cell_type": "markdown",
   "metadata": {},
   "source": [
    "## Dataloader"
   ]
  },
  {
   "cell_type": "code",
   "execution_count": 357,
   "metadata": {},
   "outputs": [],
   "source": [
    "class CustomLoader(Dataset):\n",
    "    \n",
    "    def __init__(self, paths, labels, data_dir, target_sr):\n",
    "        self.paths = paths\n",
    "        self.labels = labels\n",
    "        self.dir = data_dir\n",
    "        self.target_sr = target_sr\n",
    "        self.smile = opensmile.Smile(feature_set=opensmile.FeatureSet.emobase,\n",
    "                                     feature_level=opensmile.FeatureLevel.Functionals,\n",
    "                                     sampling_rate=target_sr)\n",
    "\n",
    "    def __len__(self):\n",
    "        return len(self.paths)\n",
    "    \n",
    "    def __getitem__(self, index) :\n",
    "\n",
    "        waveform, sr = librosa.load(f'{self.dir}/{self.paths[index]}')\n",
    "        waveform = librosa.resample(waveform, orig_sr=sr, target_sr=self.target_sr)\n",
    "\n",
    "        wave = self.smile(waveform, self.target_sr).reshape([len(self.smile.feature_names),])\n",
    "        label = self.labels[index]\n",
    "\n",
    "        return wave, label"
   ]
  },
  {
   "cell_type": "code",
   "execution_count": 361,
   "metadata": {},
   "outputs": [],
   "source": [
    "X_train, X_test, y_train, y_test = train_test_split(paths, \n",
    "                                                    labels, \n",
    "                                                    test_size=0.2, \n",
    "                                                    shuffle=True,\n",
    "                                                    stratify=labels)"
   ]
  },
  {
   "cell_type": "code",
   "execution_count": 362,
   "metadata": {},
   "outputs": [],
   "source": [
    "batch_size = 64\n",
    "target_sr = 16000\n",
    "train_set = CustomLoader(paths=X_train, labels=y_train, data_dir=sound_dir, target_sr=target_sr)\n",
    "valid_set = CustomLoader(paths=X_test, labels=y_test, data_dir=sound_dir, target_sr=target_sr)\n",
    "train_loader = DataLoader(dataset=train_set, batch_size=batch_size, shuffle=True)\n",
    "valid_loader = DataLoader(dataset=valid_set, batch_size=batch_size, shuffle=True)"
   ]
  },
  {
   "cell_type": "markdown",
   "metadata": {},
   "source": [
    "## Model"
   ]
  },
  {
   "cell_type": "code",
   "execution_count": 354,
   "metadata": {},
   "outputs": [],
   "source": [
    "class MLP(nn.Module):\n",
    "\n",
    "    def __init__(self):\n",
    "        super(MLP, self).__init__()\n",
    "        self.fc1 = nn.Linear(in_features=988, out_features=512)\n",
    "        self.fc2 = nn.Linear(in_features=512, out_features=256)\n",
    "        self.fc3 = nn.Linear(in_features=256, out_features=128)\n",
    "        self.fc4 = nn.Linear(in_features=128, out_features=64)\n",
    "        self.fc5 = nn.Linear(in_features=64, out_features=32)\n",
    "        self.fc6 = nn.Linear(in_features=32, out_features=2)\n",
    "        self.softmax = nn.Softmax(dim=-1) # For binary classification\n",
    "        self.relu = nn.ReLU()\n",
    "\n",
    "    def forward(self, x):\n",
    "        x = self.fc1(x)\n",
    "        x = self.relu(x)\n",
    "        x = self.fc2(x)\n",
    "        x = self.relu(x)\n",
    "        x = self.fc3(x)\n",
    "        x = self.relu(x)\n",
    "        x = self.fc4(x)\n",
    "        x = self.relu(x)\n",
    "        x = self.fc5(x)\n",
    "        x = self.relu(x)\n",
    "        x = self.fc6(x)\n",
    "        x = self.softmax(x)\n",
    "        return x"
   ]
  },
  {
   "cell_type": "code",
   "execution_count": 355,
   "metadata": {},
   "outputs": [],
   "source": [
    "mlp = MLP().to(default_device)"
   ]
  },
  {
   "cell_type": "code",
   "execution_count": 356,
   "metadata": {},
   "outputs": [
    {
     "data": {
      "text/plain": [
       "==========================================================================================\n",
       "Layer (type:depth-idx)                   Output Shape              Param #\n",
       "==========================================================================================\n",
       "MLP                                      [32, 2]                   --\n",
       "├─Linear: 1-1                            [32, 512]                 506,368\n",
       "├─ReLU: 1-2                              [32, 512]                 --\n",
       "├─Linear: 1-3                            [32, 256]                 131,328\n",
       "├─ReLU: 1-4                              [32, 256]                 --\n",
       "├─Linear: 1-5                            [32, 128]                 32,896\n",
       "├─ReLU: 1-6                              [32, 128]                 --\n",
       "├─Linear: 1-7                            [32, 64]                  8,256\n",
       "├─ReLU: 1-8                              [32, 64]                  --\n",
       "├─Linear: 1-9                            [32, 32]                  2,080\n",
       "├─ReLU: 1-10                             [32, 32]                  --\n",
       "├─Linear: 1-11                           [32, 2]                   66\n",
       "├─Softmax: 1-12                          [32, 2]                   --\n",
       "==========================================================================================\n",
       "Total params: 680,994\n",
       "Trainable params: 680,994\n",
       "Non-trainable params: 0\n",
       "Total mult-adds (Units.MEGABYTES): 21.79\n",
       "==========================================================================================\n",
       "Input size (MB): 0.13\n",
       "Forward/backward pass size (MB): 0.25\n",
       "Params size (MB): 2.72\n",
       "Estimated Total Size (MB): 3.10\n",
       "=========================================================================================="
      ]
     },
     "execution_count": 356,
     "metadata": {},
     "output_type": "execute_result"
    }
   ],
   "source": [
    "summary(mlp, [batch_size, 988])"
   ]
  },
  {
   "cell_type": "markdown",
   "metadata": {},
   "source": [
    "## training"
   ]
  },
  {
   "cell_type": "code",
   "execution_count": 367,
   "metadata": {},
   "outputs": [],
   "source": [
    "# Hyperparameters\n",
    "num_epochs = 50\n",
    "learning_rate = 0.001\n",
    "weight_decay = 0.001\n",
    "\n",
    "# loss function, and optimizer\n",
    "criterion = nn.CrossEntropyLoss()\n",
    "optimizer = optim.Adam(mlp.parameters(), lr=learning_rate, weight_decay=weight_decay)\n",
    "\n",
    "history = { 'train_loss' : [], 'train_acc': [], 'val_loss': [], 'val_acc': []}\n",
    "min_loss = 1e9"
   ]
  },
  {
   "cell_type": "code",
   "execution_count": 369,
   "metadata": {},
   "outputs": [
    {
     "name": "stderr",
     "output_type": "stream",
     "text": [
      "                                                                   \r"
     ]
    },
    {
     "name": "stdout",
     "output_type": "stream",
     "text": [
      "Epoch   1 / 50 :  Train Loss: 0.01103136, Valid Loss: 0.01105104, Train acc: 0.60600793, Valid acc: 0.60926916\n"
     ]
    },
    {
     "name": "stderr",
     "output_type": "stream",
     "text": [
      "                                                                   \r"
     ]
    },
    {
     "name": "stdout",
     "output_type": "stream",
     "text": [
      "Epoch   2 / 50 :  Train Loss: 0.01098274, Valid Loss: 0.01114601, Train acc: 0.61024201, Valid acc: 0.60303030\n"
     ]
    },
    {
     "name": "stderr",
     "output_type": "stream",
     "text": [
      "                                                                   \r"
     ]
    },
    {
     "name": "stdout",
     "output_type": "stream",
     "text": [
      "Epoch   3 / 50 :  Train Loss: 0.01111385, Valid Loss: 0.01113028, Train acc: 0.60293266, Valid acc: 0.60303030\n"
     ]
    },
    {
     "name": "stderr",
     "output_type": "stream",
     "text": [
      "                                                                   \r"
     ]
    },
    {
     "name": "stdout",
     "output_type": "stream",
     "text": [
      "Epoch   4 / 50 :  Train Loss: 0.01354539, Valid Loss: 0.01436550, Train acc: 0.44720774, Valid acc: 0.39768271\n"
     ]
    },
    {
     "name": "stderr",
     "output_type": "stream",
     "text": [
      "                                                                   \r"
     ]
    },
    {
     "name": "stdout",
     "output_type": "stream",
     "text": [
      "Epoch   5 / 50 :  Train Loss: 0.01433174, Valid Loss: 0.01436626, Train acc: 0.39760217, Valid acc: 0.39768271\n"
     ]
    },
    {
     "name": "stderr",
     "output_type": "stream",
     "text": [
      "                                                                   \r"
     ]
    },
    {
     "name": "stdout",
     "output_type": "stream",
     "text": [
      "Epoch   6 / 50 :  Train Loss: 0.01432809, Valid Loss: 0.01437262, Train acc: 0.39760217, Valid acc: 0.39768271\n"
     ]
    },
    {
     "name": "stderr",
     "output_type": "stream",
     "text": [
      "                                                                   \r"
     ]
    },
    {
     "name": "stdout",
     "output_type": "stream",
     "text": [
      "Epoch   7 / 50 :  Train Loss: 0.01432764, Valid Loss: 0.01436170, Train acc: 0.39760217, Valid acc: 0.39768271\n"
     ]
    },
    {
     "name": "stderr",
     "output_type": "stream",
     "text": [
      "Validating Epoch 8:  73%|███████▎  | 64/88 [04:24<01:33,  3.88s/it]       Exception ignored on calling ctypes callback function: <function OpenSMILE.external_sink_set_callback_ex.<locals>.internal_callback_ex at 0x00000212C7553240>\n",
      "Traceback (most recent call last):\n",
      "  File \"c:\\Users\\Alireza\\AppData\\Local\\Programs\\Python\\Python312\\Lib\\site-packages\\opensmile\\core\\lib.py\", line 423, in internal_callback_ex\n",
      "    def internal_callback_ex(data, nt, n, meta: POINTER(FrameMetaData), _):\n",
      "\n",
      "KeyboardInterrupt: \n",
      "                                                                   \r"
     ]
    },
    {
     "ename": "RuntimeError",
     "evalue": "mat1 and mat2 must have the same dtype, but got Double and Float",
     "output_type": "error",
     "traceback": [
      "\u001b[1;31m---------------------------------------------------------------------------\u001b[0m",
      "\u001b[1;31mRuntimeError\u001b[0m                              Traceback (most recent call last)",
      "Cell \u001b[1;32mIn[369], line 29\u001b[0m\n\u001b[0;32m     27\u001b[0m \u001b[38;5;28;01mwith\u001b[39;00m torch\u001b[38;5;241m.\u001b[39mno_grad():\n\u001b[0;32m     28\u001b[0m     features, labels \u001b[38;5;241m=\u001b[39m features\u001b[38;5;241m.\u001b[39mto(default_device), labels\u001b[38;5;241m.\u001b[39mto(default_device)\n\u001b[1;32m---> 29\u001b[0m     outputs \u001b[38;5;241m=\u001b[39m \u001b[43mmlp\u001b[49m\u001b[43m(\u001b[49m\u001b[43mfeatures\u001b[49m\u001b[43m)\u001b[49m\n\u001b[0;32m     30\u001b[0m     loss \u001b[38;5;241m=\u001b[39m criterion(outputs, labels)\n\u001b[0;32m     31\u001b[0m     total_loss\u001b[38;5;241m+\u001b[39m\u001b[38;5;241m=\u001b[39mloss\n",
      "File \u001b[1;32mc:\\Users\\Alireza\\AppData\\Local\\Programs\\Python\\Python312\\Lib\\site-packages\\torch\\nn\\modules\\module.py:1532\u001b[0m, in \u001b[0;36mModule._wrapped_call_impl\u001b[1;34m(self, *args, **kwargs)\u001b[0m\n\u001b[0;32m   1530\u001b[0m     \u001b[38;5;28;01mreturn\u001b[39;00m \u001b[38;5;28mself\u001b[39m\u001b[38;5;241m.\u001b[39m_compiled_call_impl(\u001b[38;5;241m*\u001b[39margs, \u001b[38;5;241m*\u001b[39m\u001b[38;5;241m*\u001b[39mkwargs)  \u001b[38;5;66;03m# type: ignore[misc]\u001b[39;00m\n\u001b[0;32m   1531\u001b[0m \u001b[38;5;28;01melse\u001b[39;00m:\n\u001b[1;32m-> 1532\u001b[0m     \u001b[38;5;28;01mreturn\u001b[39;00m \u001b[38;5;28;43mself\u001b[39;49m\u001b[38;5;241;43m.\u001b[39;49m\u001b[43m_call_impl\u001b[49m\u001b[43m(\u001b[49m\u001b[38;5;241;43m*\u001b[39;49m\u001b[43margs\u001b[49m\u001b[43m,\u001b[49m\u001b[43m \u001b[49m\u001b[38;5;241;43m*\u001b[39;49m\u001b[38;5;241;43m*\u001b[39;49m\u001b[43mkwargs\u001b[49m\u001b[43m)\u001b[49m\n",
      "File \u001b[1;32mc:\\Users\\Alireza\\AppData\\Local\\Programs\\Python\\Python312\\Lib\\site-packages\\torch\\nn\\modules\\module.py:1541\u001b[0m, in \u001b[0;36mModule._call_impl\u001b[1;34m(self, *args, **kwargs)\u001b[0m\n\u001b[0;32m   1536\u001b[0m \u001b[38;5;66;03m# If we don't have any hooks, we want to skip the rest of the logic in\u001b[39;00m\n\u001b[0;32m   1537\u001b[0m \u001b[38;5;66;03m# this function, and just call forward.\u001b[39;00m\n\u001b[0;32m   1538\u001b[0m \u001b[38;5;28;01mif\u001b[39;00m \u001b[38;5;129;01mnot\u001b[39;00m (\u001b[38;5;28mself\u001b[39m\u001b[38;5;241m.\u001b[39m_backward_hooks \u001b[38;5;129;01mor\u001b[39;00m \u001b[38;5;28mself\u001b[39m\u001b[38;5;241m.\u001b[39m_backward_pre_hooks \u001b[38;5;129;01mor\u001b[39;00m \u001b[38;5;28mself\u001b[39m\u001b[38;5;241m.\u001b[39m_forward_hooks \u001b[38;5;129;01mor\u001b[39;00m \u001b[38;5;28mself\u001b[39m\u001b[38;5;241m.\u001b[39m_forward_pre_hooks\n\u001b[0;32m   1539\u001b[0m         \u001b[38;5;129;01mor\u001b[39;00m _global_backward_pre_hooks \u001b[38;5;129;01mor\u001b[39;00m _global_backward_hooks\n\u001b[0;32m   1540\u001b[0m         \u001b[38;5;129;01mor\u001b[39;00m _global_forward_hooks \u001b[38;5;129;01mor\u001b[39;00m _global_forward_pre_hooks):\n\u001b[1;32m-> 1541\u001b[0m     \u001b[38;5;28;01mreturn\u001b[39;00m \u001b[43mforward_call\u001b[49m\u001b[43m(\u001b[49m\u001b[38;5;241;43m*\u001b[39;49m\u001b[43margs\u001b[49m\u001b[43m,\u001b[49m\u001b[43m \u001b[49m\u001b[38;5;241;43m*\u001b[39;49m\u001b[38;5;241;43m*\u001b[39;49m\u001b[43mkwargs\u001b[49m\u001b[43m)\u001b[49m\n\u001b[0;32m   1543\u001b[0m \u001b[38;5;28;01mtry\u001b[39;00m:\n\u001b[0;32m   1544\u001b[0m     result \u001b[38;5;241m=\u001b[39m \u001b[38;5;28;01mNone\u001b[39;00m\n",
      "Cell \u001b[1;32mIn[354], line 15\u001b[0m, in \u001b[0;36mMLP.forward\u001b[1;34m(self, x)\u001b[0m\n\u001b[0;32m     14\u001b[0m \u001b[38;5;28;01mdef\u001b[39;00m \u001b[38;5;21mforward\u001b[39m(\u001b[38;5;28mself\u001b[39m, x):\n\u001b[1;32m---> 15\u001b[0m     x \u001b[38;5;241m=\u001b[39m \u001b[38;5;28;43mself\u001b[39;49m\u001b[38;5;241;43m.\u001b[39;49m\u001b[43mfc1\u001b[49m\u001b[43m(\u001b[49m\u001b[43mx\u001b[49m\u001b[43m)\u001b[49m\n\u001b[0;32m     16\u001b[0m     x \u001b[38;5;241m=\u001b[39m \u001b[38;5;28mself\u001b[39m\u001b[38;5;241m.\u001b[39mrelu(x)\n\u001b[0;32m     17\u001b[0m     x \u001b[38;5;241m=\u001b[39m \u001b[38;5;28mself\u001b[39m\u001b[38;5;241m.\u001b[39mfc2(x)\n",
      "File \u001b[1;32mc:\\Users\\Alireza\\AppData\\Local\\Programs\\Python\\Python312\\Lib\\site-packages\\torch\\nn\\modules\\module.py:1532\u001b[0m, in \u001b[0;36mModule._wrapped_call_impl\u001b[1;34m(self, *args, **kwargs)\u001b[0m\n\u001b[0;32m   1530\u001b[0m     \u001b[38;5;28;01mreturn\u001b[39;00m \u001b[38;5;28mself\u001b[39m\u001b[38;5;241m.\u001b[39m_compiled_call_impl(\u001b[38;5;241m*\u001b[39margs, \u001b[38;5;241m*\u001b[39m\u001b[38;5;241m*\u001b[39mkwargs)  \u001b[38;5;66;03m# type: ignore[misc]\u001b[39;00m\n\u001b[0;32m   1531\u001b[0m \u001b[38;5;28;01melse\u001b[39;00m:\n\u001b[1;32m-> 1532\u001b[0m     \u001b[38;5;28;01mreturn\u001b[39;00m \u001b[38;5;28;43mself\u001b[39;49m\u001b[38;5;241;43m.\u001b[39;49m\u001b[43m_call_impl\u001b[49m\u001b[43m(\u001b[49m\u001b[38;5;241;43m*\u001b[39;49m\u001b[43margs\u001b[49m\u001b[43m,\u001b[49m\u001b[43m \u001b[49m\u001b[38;5;241;43m*\u001b[39;49m\u001b[38;5;241;43m*\u001b[39;49m\u001b[43mkwargs\u001b[49m\u001b[43m)\u001b[49m\n",
      "File \u001b[1;32mc:\\Users\\Alireza\\AppData\\Local\\Programs\\Python\\Python312\\Lib\\site-packages\\torch\\nn\\modules\\module.py:1541\u001b[0m, in \u001b[0;36mModule._call_impl\u001b[1;34m(self, *args, **kwargs)\u001b[0m\n\u001b[0;32m   1536\u001b[0m \u001b[38;5;66;03m# If we don't have any hooks, we want to skip the rest of the logic in\u001b[39;00m\n\u001b[0;32m   1537\u001b[0m \u001b[38;5;66;03m# this function, and just call forward.\u001b[39;00m\n\u001b[0;32m   1538\u001b[0m \u001b[38;5;28;01mif\u001b[39;00m \u001b[38;5;129;01mnot\u001b[39;00m (\u001b[38;5;28mself\u001b[39m\u001b[38;5;241m.\u001b[39m_backward_hooks \u001b[38;5;129;01mor\u001b[39;00m \u001b[38;5;28mself\u001b[39m\u001b[38;5;241m.\u001b[39m_backward_pre_hooks \u001b[38;5;129;01mor\u001b[39;00m \u001b[38;5;28mself\u001b[39m\u001b[38;5;241m.\u001b[39m_forward_hooks \u001b[38;5;129;01mor\u001b[39;00m \u001b[38;5;28mself\u001b[39m\u001b[38;5;241m.\u001b[39m_forward_pre_hooks\n\u001b[0;32m   1539\u001b[0m         \u001b[38;5;129;01mor\u001b[39;00m _global_backward_pre_hooks \u001b[38;5;129;01mor\u001b[39;00m _global_backward_hooks\n\u001b[0;32m   1540\u001b[0m         \u001b[38;5;129;01mor\u001b[39;00m _global_forward_hooks \u001b[38;5;129;01mor\u001b[39;00m _global_forward_pre_hooks):\n\u001b[1;32m-> 1541\u001b[0m     \u001b[38;5;28;01mreturn\u001b[39;00m \u001b[43mforward_call\u001b[49m\u001b[43m(\u001b[49m\u001b[38;5;241;43m*\u001b[39;49m\u001b[43margs\u001b[49m\u001b[43m,\u001b[49m\u001b[43m \u001b[49m\u001b[38;5;241;43m*\u001b[39;49m\u001b[38;5;241;43m*\u001b[39;49m\u001b[43mkwargs\u001b[49m\u001b[43m)\u001b[49m\n\u001b[0;32m   1543\u001b[0m \u001b[38;5;28;01mtry\u001b[39;00m:\n\u001b[0;32m   1544\u001b[0m     result \u001b[38;5;241m=\u001b[39m \u001b[38;5;28;01mNone\u001b[39;00m\n",
      "File \u001b[1;32mc:\\Users\\Alireza\\AppData\\Local\\Programs\\Python\\Python312\\Lib\\site-packages\\torch\\nn\\modules\\linear.py:116\u001b[0m, in \u001b[0;36mLinear.forward\u001b[1;34m(self, input)\u001b[0m\n\u001b[0;32m    115\u001b[0m \u001b[38;5;28;01mdef\u001b[39;00m \u001b[38;5;21mforward\u001b[39m(\u001b[38;5;28mself\u001b[39m, \u001b[38;5;28minput\u001b[39m: Tensor) \u001b[38;5;241m-\u001b[39m\u001b[38;5;241m>\u001b[39m Tensor:\n\u001b[1;32m--> 116\u001b[0m     \u001b[38;5;28;01mreturn\u001b[39;00m \u001b[43mF\u001b[49m\u001b[38;5;241;43m.\u001b[39;49m\u001b[43mlinear\u001b[49m\u001b[43m(\u001b[49m\u001b[38;5;28;43minput\u001b[39;49m\u001b[43m,\u001b[49m\u001b[43m \u001b[49m\u001b[38;5;28;43mself\u001b[39;49m\u001b[38;5;241;43m.\u001b[39;49m\u001b[43mweight\u001b[49m\u001b[43m,\u001b[49m\u001b[43m \u001b[49m\u001b[38;5;28;43mself\u001b[39;49m\u001b[38;5;241;43m.\u001b[39;49m\u001b[43mbias\u001b[49m\u001b[43m)\u001b[49m\n",
      "\u001b[1;31mRuntimeError\u001b[0m: mat1 and mat2 must have the same dtype, but got Double and Float"
     ]
    }
   ],
   "source": [
    "for epoch in range(num_epochs):\n",
    "\n",
    "    # training\n",
    "    mlp.train()\n",
    "    steps = len(train_loader)\n",
    "    total_loss, acc, count = 0, 0, 0\n",
    "    for features, labels in tqdm(train_loader, total=steps, desc=f'Training Epoch {epoch+1}', leave=False):\n",
    "        features, labels = features.to(default_device), labels.to(default_device)\n",
    "        optimizer.zero_grad()\n",
    "        outputs = mlp(features)\n",
    "        loss = criterion(outputs, labels)\n",
    "        loss.backward()\n",
    "        optimizer.step()\n",
    "        total_loss+=loss\n",
    "        predicted_value = torch.argmax(outputs, 1)\n",
    "        acc+=(predicted_value==labels).sum()\n",
    "        count+=len(labels)\n",
    "    tl,ta = total_loss.item()/count, acc.item()/count\n",
    "    history['train_loss'].append(tl)\n",
    "    history['train_acc'].append(ta)\n",
    "\n",
    "    # validation\n",
    "    mlp.eval()\n",
    "    steps = len(valid_loader)\n",
    "    total_loss, acc, count = 0, 0, 0\n",
    "    for features, labels in tqdm(valid_loader, total=steps, desc=f'Validating Epoch {epoch+1}', leave=False):\n",
    "        with torch.no_grad():\n",
    "            features, labels = features.to(default_device), labels.to(default_device)\n",
    "            outputs = mlp(features)\n",
    "            loss = criterion(outputs, labels)\n",
    "            total_loss+=loss\n",
    "            predicted_value = torch.argmax(outputs, 1)\n",
    "            acc+=(predicted_value==labels).sum()\n",
    "            count+=len(labels)\n",
    "    vl,va = total_loss.item()/count, acc.item()/count\n",
    "    history['val_loss'].append(vl)\n",
    "    history['val_acc'].append(va)\n",
    "\n",
    "    # save net parameters\n",
    "    if vl <= min_loss:\n",
    "        torch.save(mlp.state_dict(), 'best_net.pth')\n",
    "        min_loss = vl\n",
    "    torch.save(mlp.state_dict(), 'last_epoch_net.pth')\n",
    "\n",
    "    print(f'Epoch {epoch+1:3} / {num_epochs} :  Train Loss: {tl:.8f}, Valid Loss: {vl:.8f}, Train acc: {ta:.8f}, Valid acc: {va:.8f}')"
   ]
  },
  {
   "cell_type": "code",
   "execution_count": 379,
   "metadata": {},
   "outputs": [],
   "source": [
    "a = iter(valid_loader).__next__()[0].to(default_device)"
   ]
  },
  {
   "cell_type": "code",
   "execution_count": 391,
   "metadata": {},
   "outputs": [
    {
     "data": {
      "text/plain": [
       "tensor([[0.2262, 0.0978, 0.0790,  ..., 0.8789, 0.8569, 0.4649],\n",
       "        [0.0462, 0.8374, 0.5305,  ..., 0.1357, 0.5088, 0.0594],\n",
       "        [0.3363, 0.0850, 0.5094,  ..., 0.5449, 0.8801, 0.3161],\n",
       "        ...,\n",
       "        [0.1360, 0.0948, 0.1419,  ..., 0.1652, 0.7837, 0.7383],\n",
       "        [0.6483, 0.5644, 0.1515,  ..., 0.0441, 0.2737, 0.2043],\n",
       "        [0.5221, 0.4446, 0.5426,  ..., 0.9997, 0.5774, 0.3370]])"
      ]
     },
     "execution_count": 391,
     "metadata": {},
     "output_type": "execute_result"
    }
   ],
   "source": [
    "torch.rand([batch_size, 988])"
   ]
  },
  {
   "cell_type": "code",
   "execution_count": 394,
   "metadata": {},
   "outputs": [
    {
     "data": {
      "text/plain": [
       "tensor([[1.6470e-04, 3.0544e-09, 1.6470e-04,  ..., 3.7039e-01, 0.0000e+00,\n",
       "         3.7039e-01],\n",
       "        [1.9784e-04, 0.0000e+00, 1.9784e-04,  ..., 5.5123e-01, 2.6937e-02,\n",
       "         5.7817e-01],\n",
       "        [3.2502e-06, 1.6791e-09, 3.2485e-06,  ..., 0.0000e+00, 0.0000e+00,\n",
       "         0.0000e+00],\n",
       "        ...,\n",
       "        [2.8912e-05, 0.0000e+00, 2.8912e-05,  ..., 0.0000e+00, 0.0000e+00,\n",
       "         0.0000e+00],\n",
       "        [1.3393e-06, 1.2569e-09, 1.3381e-06,  ..., 0.0000e+00, 2.1277e-01,\n",
       "         2.1277e-01],\n",
       "        [1.6144e-04, 0.0000e+00, 1.6144e-04,  ..., 3.2361e+00, 3.2906e+00,\n",
       "         6.5267e+00]], device='cuda:0')"
      ]
     },
     "execution_count": 394,
     "metadata": {},
     "output_type": "execute_result"
    }
   ],
   "source": [
    "a"
   ]
  },
  {
   "cell_type": "code",
   "execution_count": 393,
   "metadata": {},
   "outputs": [
    {
     "data": {
      "text/plain": [
       "tensor([[1.0000e+00, 6.4163e-29],\n",
       "        [1.0000e+00, 2.4232e-37],\n",
       "        [1.0000e+00, 6.9229e-23],\n",
       "        [1.0000e+00, 0.0000e+00],\n",
       "        [1.0000e+00, 8.1963e-20],\n",
       "        [1.0000e+00, 6.3942e-20],\n",
       "        [1.0000e+00, 4.2284e-31],\n",
       "        [1.0000e+00, 6.8648e-25],\n",
       "        [1.0000e+00, 5.8855e-44],\n",
       "        [1.0000e+00, 1.2612e-44],\n",
       "        [1.0000e+00, 9.9777e-33],\n",
       "        [1.0000e+00, 4.7392e-10],\n",
       "        [1.0000e+00, 1.3262e-22],\n",
       "        [1.0000e+00, 4.6028e-23],\n",
       "        [1.0000e+00, 3.3443e-20],\n",
       "        [1.0000e+00, 7.7155e-24],\n",
       "        [1.0000e+00, 2.2006e-07],\n",
       "        [1.0000e+00, 0.0000e+00],\n",
       "        [1.0000e+00, 7.0274e-19],\n",
       "        [1.0000e+00, 1.8170e-31],\n",
       "        [1.0000e+00, 4.9192e-33],\n",
       "        [1.0000e+00, 7.5852e-40],\n",
       "        [1.0000e+00, 6.5902e-37],\n",
       "        [1.0000e+00, 3.8800e-29],\n",
       "        [1.0000e+00, 1.0093e-32],\n",
       "        [1.0000e+00, 1.9079e-36],\n",
       "        [1.0000e+00, 1.6241e-17],\n",
       "        [1.0000e+00, 2.0877e-35],\n",
       "        [1.0000e+00, 2.5274e-39],\n",
       "        [1.0000e+00, 7.8446e-28],\n",
       "        [1.0000e+00, 0.0000e+00],\n",
       "        [1.0000e+00, 2.3858e-13],\n",
       "        [1.0000e+00, 1.4013e-45],\n",
       "        [1.0000e+00, 1.3172e-43],\n",
       "        [1.0000e+00, 1.2229e-41],\n",
       "        [1.0000e+00, 4.4875e-30],\n",
       "        [1.0000e+00, 5.2954e-20],\n",
       "        [1.0000e+00, 1.5277e-40],\n",
       "        [1.0000e+00, 1.4624e-16],\n",
       "        [1.0000e+00, 3.7271e-22],\n",
       "        [1.0000e+00, 7.9173e-43],\n",
       "        [1.0000e+00, 3.6863e-29],\n",
       "        [1.0000e+00, 8.4078e-45],\n",
       "        [1.0000e+00, 6.1476e-33],\n",
       "        [1.0000e+00, 2.0630e-21],\n",
       "        [1.0000e+00, 5.0321e-42],\n",
       "        [1.0000e+00, 4.6867e-32],\n",
       "        [1.0000e+00, 3.9882e-26],\n",
       "        [1.0000e+00, 1.2423e-33],\n",
       "        [1.0000e+00, 1.0510e-43],\n",
       "        [1.0000e+00, 9.0455e-21],\n",
       "        [1.0000e+00, 5.2179e-25],\n",
       "        [1.0000e+00, 1.4477e-38],\n",
       "        [1.0000e+00, 2.3738e-25],\n",
       "        [1.0000e+00, 4.9718e-26],\n",
       "        [1.0000e+00, 3.9571e-35],\n",
       "        [1.0000e+00, 8.9880e-20],\n",
       "        [1.0000e+00, 1.1201e-21],\n",
       "        [1.0000e+00, 0.0000e+00],\n",
       "        [1.0000e+00, 7.0238e-30],\n",
       "        [1.0000e+00, 0.0000e+00],\n",
       "        [1.0000e+00, 0.0000e+00],\n",
       "        [1.0000e+00, 1.3045e-27],\n",
       "        [1.0000e+00, 3.6133e-32]], device='cuda:0', grad_fn=<SoftmaxBackward0>)"
      ]
     },
     "execution_count": 393,
     "metadata": {},
     "output_type": "execute_result"
    }
   ],
   "source": [
    "mlp(a)"
   ]
  },
  {
   "cell_type": "code",
   "execution_count": 392,
   "metadata": {},
   "outputs": [
    {
     "data": {
      "text/plain": [
       "tensor([[0.4694, 0.5306],\n",
       "        [0.4707, 0.5293],\n",
       "        [0.4712, 0.5288],\n",
       "        [0.4711, 0.5289],\n",
       "        [0.4704, 0.5296],\n",
       "        [0.4720, 0.5280],\n",
       "        [0.4706, 0.5294],\n",
       "        [0.4704, 0.5296],\n",
       "        [0.4707, 0.5293],\n",
       "        [0.4708, 0.5292],\n",
       "        [0.4701, 0.5299],\n",
       "        [0.4711, 0.5289],\n",
       "        [0.4721, 0.5279],\n",
       "        [0.4716, 0.5284],\n",
       "        [0.4700, 0.5300],\n",
       "        [0.4710, 0.5290],\n",
       "        [0.4702, 0.5298],\n",
       "        [0.4705, 0.5295],\n",
       "        [0.4715, 0.5285],\n",
       "        [0.4707, 0.5293],\n",
       "        [0.4706, 0.5294],\n",
       "        [0.4703, 0.5297],\n",
       "        [0.4709, 0.5291],\n",
       "        [0.4710, 0.5290],\n",
       "        [0.4711, 0.5289],\n",
       "        [0.4694, 0.5306],\n",
       "        [0.4705, 0.5295],\n",
       "        [0.4696, 0.5304],\n",
       "        [0.4705, 0.5295],\n",
       "        [0.4702, 0.5298],\n",
       "        [0.4697, 0.5303],\n",
       "        [0.4702, 0.5298],\n",
       "        [0.4710, 0.5290],\n",
       "        [0.4702, 0.5298],\n",
       "        [0.4707, 0.5293],\n",
       "        [0.4702, 0.5298],\n",
       "        [0.4715, 0.5285],\n",
       "        [0.4717, 0.5283],\n",
       "        [0.4713, 0.5287],\n",
       "        [0.4711, 0.5289],\n",
       "        [0.4704, 0.5296],\n",
       "        [0.4705, 0.5295],\n",
       "        [0.4700, 0.5300],\n",
       "        [0.4702, 0.5298],\n",
       "        [0.4707, 0.5293],\n",
       "        [0.4703, 0.5297],\n",
       "        [0.4704, 0.5296],\n",
       "        [0.4711, 0.5289],\n",
       "        [0.4708, 0.5292],\n",
       "        [0.4708, 0.5292],\n",
       "        [0.4704, 0.5296],\n",
       "        [0.4701, 0.5299],\n",
       "        [0.4713, 0.5287],\n",
       "        [0.4697, 0.5303],\n",
       "        [0.4714, 0.5286],\n",
       "        [0.4708, 0.5292],\n",
       "        [0.4707, 0.5293],\n",
       "        [0.4705, 0.5295],\n",
       "        [0.4711, 0.5289],\n",
       "        [0.4697, 0.5303],\n",
       "        [0.4701, 0.5299],\n",
       "        [0.4710, 0.5290],\n",
       "        [0.4711, 0.5289],\n",
       "        [0.4709, 0.5291]], device='cuda:0', grad_fn=<SoftmaxBackward0>)"
      ]
     },
     "execution_count": 392,
     "metadata": {},
     "output_type": "execute_result"
    }
   ],
   "source": [
    "mlp(torch.rand([batch_size, 988]).to(default_device))"
   ]
  },
  {
   "cell_type": "code",
   "execution_count": 395,
   "metadata": {},
   "outputs": [
    {
     "data": {
      "image/png": "[encoded data removed]",
      "text/plain": [
       "<Figure size 640x480 with 1 Axes>"
      ]
     },
     "metadata": {},
     "output_type": "display_data"
    }
   ],
   "source": [
    "plt.plot(history['train_loss'], label='Training loss')\n",
    "plt.plot(history['val_loss'], label='Validation loss')\n",
    "plt.legend()\n",
    "plt.grid()\n",
    "plt.show()"
   ]
  },
  {
   "cell_type": "code",
   "execution_count": 396,
   "metadata": {},
   "outputs": [
    {
     "data": {
      "image/png": "[encoded data removed]",
      "text/plain": [
       "<Figure size 640x480 with 1 Axes>"
      ]
     },
     "metadata": {},
     "output_type": "display_data"
    }
   ],
   "source": [
    "plt.plot(history['train_acc'], label='Training acc')\n",
    "plt.plot(history['val_acc'], label='Validation acc')\n",
    "plt.legend()\n",
    "plt.grid()\n",
    "plt.show()"
   ]
  },
  {
   "cell_type": "markdown",
   "metadata": {},
   "source": [
    "## rest"
   ]
  }
 ],
 "metadata": {
  "kernelspec": {
   "display_name": "Python 3",
   "language": "python",
   "name": "python3"
  },
  "language_info": {
   "codemirror_mode": {
    "name": "ipython",
    "version": 3
   },
   "file_extension": ".py",
   "mimetype": "text/x-python",
   "name": "python",
   "nbconvert_exporter": "python",
   "pygments_lexer": "ipython3",
   "version": "3.12.3"
  }
 },
 "nbformat": 4,
 "nbformat_minor": 2
}
