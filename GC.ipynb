{
 "cells": [
  {
   "cell_type": "markdown",
   "metadata": {},
   "source": [
    "# Gender classification"
   ]
  },
  {
   "cell_type": "markdown",
   "metadata": {},
   "source": [
    "## Libraries"
   ]
  },
  {
   "cell_type": "code",
   "execution_count": 235,
   "metadata": {},
   "outputs": [],
   "source": [
    "import tarfile\n",
    "import os\n",
    "import pandas as pd\n",
    "import numpy as np\n",
    "import librosa\n",
    "import matplotlib.pyplot as plt\n",
    "import soundfile as sf\n",
    "import opensmile\n",
    "import joblib\n",
    "import torch\n",
    "import torch.nn as nn\n",
    "import torch.optim as optim\n",
    "from sklearn.preprocessing import MinMaxScaler\n",
    "from torch.utils.data import DataLoader, Dataset\n",
    "from sklearn.model_selection import train_test_split\n",
    "from torchinfo import summary\n",
    "from tqdm import tqdm\n",
    "from sklearn.metrics import accuracy_score, precision_score, recall_score, f1_score\n",
    "from sklearn.metrics import confusion_matrix, ConfusionMatrixDisplay"
   ]
  },
  {
   "cell_type": "markdown",
   "metadata": {},
   "source": [
    "## Default Device"
   ]
  },
  {
   "cell_type": "code",
   "execution_count": 2,
   "metadata": {},
   "outputs": [
    {
     "name": "stdout",
     "output_type": "stream",
     "text": [
      "NVIDIA GeForce GTX 1660 Ti\n"
     ]
    }
   ],
   "source": [
    "if torch.cuda.is_available(): print(torch.cuda.get_device_name())\n",
    "else: print('cpu')\n",
    "default_device = 'cuda' if torch.cuda.is_available() else 'cpu'"
   ]
  },
  {
   "cell_type": "markdown",
   "metadata": {},
   "source": [
    "## Extract .tar.gz file"
   ]
  },
  {
   "cell_type": "code",
   "execution_count": 3,
   "metadata": {},
   "outputs": [],
   "source": [
    "input_tar_gz_file  = 'cv-corpus-12.0-delta-2022-12-07-en.tar.gz'\n",
    "output_dir  = 'extracted_files'"
   ]
  },
  {
   "cell_type": "code",
   "execution_count": 4,
   "metadata": {},
   "outputs": [],
   "source": [
    "# Create the output folder if it doesn't exist\n",
    "os.makedirs(output_dir , exist_ok=True)"
   ]
  },
  {
   "cell_type": "code",
   "execution_count": 5,
   "metadata": {},
   "outputs": [],
   "source": [
    "# Open the .tar.gz file\n",
    "with tarfile.open(input_tar_gz_file, 'r:gz') as tar:\n",
    "    tar.extractall(path=output_dir)"
   ]
  },
  {
   "cell_type": "markdown",
   "metadata": {},
   "source": [
    "## Open Dataset"
   ]
  },
  {
   "cell_type": "code",
   "execution_count": 6,
   "metadata": {},
   "outputs": [],
   "source": [
    "df = pd.read_csv('./extracted_files/cv-corpus-12.0-delta-2022-12-07/en/other.tsv', sep='\\t')\n",
    "df = df[df['gender'].isin(['male', 'female'])]\n",
    "filtered_df = df[['path', 'gender']]\n",
    "filtered_df.loc[:, 'gender'] = filtered_df['gender'].map({'male': 1, 'female': 0})"
   ]
  },
  {
   "cell_type": "markdown",
   "metadata": {},
   "source": [
    "## Add gaussian noise for data augmentation"
   ]
  },
  {
   "cell_type": "code",
   "execution_count": 7,
   "metadata": {},
   "outputs": [],
   "source": [
    "def add_gaussian_noise(signal, noise_level=0.005):\n",
    "    \"\"\"Add Gaussian noise to the signal\"\"\"\n",
    "    noise = np.random.normal(0, noise_level, len(signal))\n",
    "    return signal + noise"
   ]
  },
  {
   "cell_type": "code",
   "execution_count": 8,
   "metadata": {},
   "outputs": [],
   "source": [
    "sound_dir = './extracted_files/cv-corpus-12.0-delta-2022-12-07/en/clips'"
   ]
  },
  {
   "cell_type": "code",
   "execution_count": 12,
   "metadata": {},
   "outputs": [],
   "source": [
    "for index, row in filtered_df[filtered_df['gender'] == 0].iterrows():\n",
    "    \n",
    "    waveform, sr = librosa.load(f'{sound_dir}/{row['path']}')\n",
    "    noisy = add_gaussian_noise(waveform)\n",
    "\n",
    "    sf.write(f'{sound_dir}/noisy_{row['path'].split('.')[0]}.wav', noisy, sr)\n",
    "\n",
    "    new_row = pd.DataFrame({'path': [f'noisy_{row['path'].split('.')[0]}.wav'], 'gender': [0]})\n",
    "\n",
    "    filtered_df = pd.concat([filtered_df, new_row], ignore_index=True)"
   ]
  },
  {
   "cell_type": "code",
   "execution_count": 13,
   "metadata": {},
   "outputs": [
    {
     "data": {
      "text/plain": [
       "gender\n",
       "1    16911\n",
       "0    11136\n",
       "Name: count, dtype: int64"
      ]
     },
     "execution_count": 13,
     "metadata": {},
     "output_type": "execute_result"
    }
   ],
   "source": [
    "filtered_df['gender'].value_counts()"
   ]
  },
  {
   "cell_type": "markdown",
   "metadata": {},
   "source": [
    "## Feature extraction"
   ]
  },
  {
   "cell_type": "code",
   "execution_count": 17,
   "metadata": {},
   "outputs": [],
   "source": [
    "paths, labels = np.array(filtered_df['path']), np.array(filtered_df['gender'])"
   ]
  },
  {
   "cell_type": "code",
   "execution_count": 19,
   "metadata": {},
   "outputs": [],
   "source": [
    "target_sr = 16000\n",
    "\n",
    "smile = opensmile.Smile(feature_set=opensmile.FeatureSet.emobase,\n",
    "                        feature_level=opensmile.FeatureLevel.Functionals,\n",
    "                        sampling_rate=target_sr)"
   ]
  },
  {
   "cell_type": "code",
   "execution_count": 83,
   "metadata": {},
   "outputs": [],
   "source": [
    "for index, row in filtered_df.iterrows():\n",
    "\n",
    "    waveform, _ = librosa.load(f'{sound_dir}/{row['path']}')\n",
    "    waveform = librosa.resample(waveform, orig_sr=sr, target_sr=target_sr)\n",
    "    \n",
    "    features = smile(waveform, target_sr).reshape([len(smile.feature_names),])\n",
    "\n",
    "    if index == 0: \n",
    "        features_df = pd.DataFrame([list(features) + [row['gender']]], columns=smile.feature_names + ['gender'])\n",
    "    else:\n",
    "        new_row = pd.DataFrame([list(features) + [row['gender']]], columns=smile.feature_names + ['gender'])\n",
    "        features_df = pd.concat([features_df, new_row], ignore_index=True)"
   ]
  },
  {
   "cell_type": "code",
   "execution_count": 100,
   "metadata": {},
   "outputs": [
    {
     "data": {
      "text/plain": [
       "gender\n",
       "1    16911\n",
       "0    11136\n",
       "Name: count, dtype: int64"
      ]
     },
     "execution_count": 100,
     "metadata": {},
     "output_type": "execute_result"
    }
   ],
   "source": [
    "features_df['gender'].value_counts()"
   ]
  },
  {
   "cell_type": "code",
   "execution_count": 101,
   "metadata": {},
   "outputs": [],
   "source": [
    "features_df.to_csv('features_df.csv', index=False)"
   ]
  },
  {
   "cell_type": "code",
   "execution_count": 104,
   "metadata": {},
   "outputs": [],
   "source": [
    "features_df = pd.read_csv('features_df.csv')"
   ]
  },
  {
   "cell_type": "markdown",
   "metadata": {},
   "source": [
    "## Normalization"
   ]
  },
  {
   "cell_type": "code",
   "execution_count": 107,
   "metadata": {},
   "outputs": [],
   "source": [
    "features = np.array(features_df.drop(columns='gender'))\n",
    "labels = np.array(features_df['gender'])"
   ]
  },
  {
   "cell_type": "code",
   "execution_count": 111,
   "metadata": {},
   "outputs": [],
   "source": [
    "X_train, X_test, y_train, y_test = train_test_split(features, \n",
    "                                                    labels, \n",
    "                                                    test_size=0.2, \n",
    "                                                    shuffle=True,\n",
    "                                                    stratify=labels)"
   ]
  },
  {
   "cell_type": "code",
   "execution_count": 117,
   "metadata": {},
   "outputs": [],
   "source": [
    "scaler = MinMaxScaler()\n",
    "scaler.fit(X_train)\n",
    "\n",
    "X_train_scaled = scaler.transform(X_train)\n",
    "X_test_scaled = scaler.transform(X_test)"
   ]
  },
  {
   "cell_type": "code",
   "execution_count": 236,
   "metadata": {},
   "outputs": [
    {
     "data": {
      "text/plain": [
       "['minmax_scaler.pkl']"
      ]
     },
     "execution_count": 236,
     "metadata": {},
     "output_type": "execute_result"
    }
   ],
   "source": [
    "joblib.dump(scaler, 'minmax_scaler.pkl')"
   ]
  },
  {
   "cell_type": "code",
   "execution_count": 237,
   "metadata": {},
   "outputs": [],
   "source": [
    "scaler = joblib.load('minmax_scaler.pkl')"
   ]
  },
  {
   "cell_type": "markdown",
   "metadata": {},
   "source": [
    "## Dataloader"
   ]
  },
  {
   "cell_type": "code",
   "execution_count": 184,
   "metadata": {},
   "outputs": [],
   "source": [
    "class CustomLoader(Dataset):\n",
    "\n",
    "    def __init__(self, features, labels):\n",
    "        self.features = features\n",
    "        self.labels = labels\n",
    "\n",
    "    def __len__(self):\n",
    "        return len(self.features)\n",
    "    \n",
    "    def __getitem__(self, index):\n",
    "        X = self.features[index]\n",
    "        Y = self.labels[index]\n",
    "        return X.astype(np.float32), Y"
   ]
  },
  {
   "cell_type": "code",
   "execution_count": 185,
   "metadata": {},
   "outputs": [],
   "source": [
    "batch_size = 64\n",
    "train_set = CustomLoader(features=X_train, labels=y_train)\n",
    "valid_set = CustomLoader(features=X_test, labels=y_test)\n",
    "train_loader = DataLoader(dataset=train_set, batch_size=batch_size, shuffle=True)\n",
    "valid_loader = DataLoader(dataset=valid_set, batch_size=batch_size, shuffle=True)"
   ]
  },
  {
   "cell_type": "markdown",
   "metadata": {},
   "source": [
    "## Dataloader for unseen data"
   ]
  },
  {
   "cell_type": "code",
   "execution_count": 357,
   "metadata": {},
   "outputs": [],
   "source": [
    "# class CustomLoader(Dataset):\n",
    "    \n",
    "#     def __init__(self, paths, labels, data_dir, target_sr):\n",
    "#         self.paths = paths\n",
    "#         self.labels = labels\n",
    "#         self.dir = data_dir\n",
    "#         self.target_sr = target_sr\n",
    "#         self.smile = opensmile.Smile(feature_set=opensmile.FeatureSet.emobase,\n",
    "#                                      feature_level=opensmile.FeatureLevel.Functionals,\n",
    "#                                      sampling_rate=target_sr)\n",
    "\n",
    "#     def __len__(self):\n",
    "#         return len(self.paths)\n",
    "    \n",
    "#     def __getitem__(self, index) :\n",
    "\n",
    "#         waveform, sr = librosa.load(f'{self.dir}/{self.paths[index]}')\n",
    "#         waveform = librosa.resample(waveform, orig_sr=sr, target_sr=self.target_sr)\n",
    "\n",
    "#         wave = self.smile(waveform, self.target_sr).reshape([len(self.smile.feature_names),])\n",
    "#         label = self.labels[index]\n",
    "\n",
    "#         return wave, label"
   ]
  },
  {
   "cell_type": "code",
   "execution_count": 361,
   "metadata": {},
   "outputs": [],
   "source": [
    "# X_train, X_test, y_train, y_test = train_test_split(paths, \n",
    "#                                                     labels, \n",
    "#                                                     test_size=0.2, \n",
    "#                                                     shuffle=True,\n",
    "#                                                     stratify=labels)"
   ]
  },
  {
   "cell_type": "code",
   "execution_count": 362,
   "metadata": {},
   "outputs": [],
   "source": [
    "# batch_size = 64\n",
    "# target_sr = 16000\n",
    "# train_set = CustomLoader(paths=X_train, labels=y_train, data_dir=sound_dir, target_sr=target_sr)\n",
    "# valid_set = CustomLoader(paths=X_test, labels=y_test, data_dir=sound_dir, target_sr=target_sr)\n",
    "# train_loader = DataLoader(dataset=train_set, batch_size=batch_size, shuffle=True)\n",
    "# valid_loader = DataLoader(dataset=valid_set, batch_size=batch_size, shuffle=True)"
   ]
  },
  {
   "cell_type": "markdown",
   "metadata": {},
   "source": [
    "## Model"
   ]
  },
  {
   "cell_type": "code",
   "execution_count": 203,
   "metadata": {},
   "outputs": [],
   "source": [
    "class MLP(nn.Module):\n",
    "\n",
    "    def __init__(self):\n",
    "        super(MLP, self).__init__()\n",
    "        self.fc1 = nn.Linear(in_features=988, out_features=512)\n",
    "        self.fc2 = nn.Linear(in_features=512, out_features=256)\n",
    "        self.fc3 = nn.Linear(in_features=256, out_features=128)\n",
    "        self.fc4 = nn.Linear(in_features=128, out_features=64)\n",
    "        self.fc5 = nn.Linear(in_features=64, out_features=32)\n",
    "        self.fc6 = nn.Linear(in_features=32, out_features=2)\n",
    "        self.softmax = nn.Softmax(dim=-1) # For binary classification\n",
    "        self.relu = nn.ReLU()\n",
    "\n",
    "    def forward(self, x):\n",
    "        x = self.fc1(x)\n",
    "        x = self.relu(x)\n",
    "        x = self.fc2(x)\n",
    "        x = self.relu(x)\n",
    "        x = self.fc3(x)\n",
    "        x = self.relu(x)\n",
    "        x = self.fc4(x)\n",
    "        x = self.relu(x)\n",
    "        x = self.fc5(x)\n",
    "        x = self.relu(x)\n",
    "        x = self.fc6(x)\n",
    "        x = self.softmax(x)\n",
    "        return x"
   ]
  },
  {
   "cell_type": "code",
   "execution_count": 204,
   "metadata": {},
   "outputs": [],
   "source": [
    "mlp = MLP().to(default_device)"
   ]
  },
  {
   "cell_type": "code",
   "execution_count": 205,
   "metadata": {},
   "outputs": [
    {
     "data": {
      "text/plain": [
       "==========================================================================================\n",
       "Layer (type:depth-idx)                   Output Shape              Param #\n",
       "==========================================================================================\n",
       "MLP                                      [64, 2]                   --\n",
       "├─Linear: 1-1                            [64, 512]                 506,368\n",
       "├─ReLU: 1-2                              [64, 512]                 --\n",
       "├─Linear: 1-3                            [64, 256]                 131,328\n",
       "├─ReLU: 1-4                              [64, 256]                 --\n",
       "├─Linear: 1-5                            [64, 128]                 32,896\n",
       "├─ReLU: 1-6                              [64, 128]                 --\n",
       "├─Linear: 1-7                            [64, 64]                  8,256\n",
       "├─ReLU: 1-8                              [64, 64]                  --\n",
       "├─Linear: 1-9                            [64, 32]                  2,080\n",
       "├─ReLU: 1-10                             [64, 32]                  --\n",
       "├─Linear: 1-11                           [64, 2]                   66\n",
       "├─Softmax: 1-12                          [64, 2]                   --\n",
       "==========================================================================================\n",
       "Total params: 680,994\n",
       "Trainable params: 680,994\n",
       "Non-trainable params: 0\n",
       "Total mult-adds (Units.MEGABYTES): 43.58\n",
       "==========================================================================================\n",
       "Input size (MB): 0.25\n",
       "Forward/backward pass size (MB): 0.51\n",
       "Params size (MB): 2.72\n",
       "Estimated Total Size (MB): 3.49\n",
       "=========================================================================================="
      ]
     },
     "execution_count": 205,
     "metadata": {},
     "output_type": "execute_result"
    }
   ],
   "source": [
    "summary(mlp, [batch_size, 988])"
   ]
  },
  {
   "cell_type": "markdown",
   "metadata": {},
   "source": [
    "## training"
   ]
  },
  {
   "cell_type": "code",
   "execution_count": 206,
   "metadata": {},
   "outputs": [],
   "source": [
    "# Hyperparameters\n",
    "num_epochs = 50\n",
    "learning_rate = 0.0005\n",
    "weight_decay = 0.001\n",
    "\n",
    "# loss function, and optimizer\n",
    "criterion = nn.CrossEntropyLoss()\n",
    "optimizer = optim.Adam(mlp.parameters(), lr=learning_rate, weight_decay=weight_decay)\n",
    "\n",
    "history = { 'train_loss' : [], 'train_acc': [], 'val_loss': [], 'val_acc': []}\n",
    "min_loss = 1e9"
   ]
  },
  {
   "cell_type": "code",
   "execution_count": 207,
   "metadata": {},
   "outputs": [
    {
     "name": "stderr",
     "output_type": "stream",
     "text": [
      "                                                                    \r"
     ]
    },
    {
     "name": "stdout",
     "output_type": "stream",
     "text": [
      "Epoch   1 / 50 :  Train Loss: 0.01108823, Valid Loss: 0.01105914, Train acc: 0.60364576, Valid acc: 0.60819964\n"
     ]
    },
    {
     "name": "stderr",
     "output_type": "stream",
     "text": [
      "                                                                    \r"
     ]
    },
    {
     "name": "stdout",
     "output_type": "stream",
     "text": [
      "Epoch   2 / 50 :  Train Loss: 0.01098310, Valid Loss: 0.01104224, Train acc: 0.61073227, Valid acc: 0.60909091\n"
     ]
    },
    {
     "name": "stderr",
     "output_type": "stream",
     "text": [
      "                                                                    \r"
     ]
    },
    {
     "name": "stdout",
     "output_type": "stream",
     "text": [
      "Epoch   3 / 50 :  Train Loss: 0.01096319, Valid Loss: 0.01103472, Train acc: 0.61117796, Valid acc: 0.60962567\n"
     ]
    },
    {
     "name": "stderr",
     "output_type": "stream",
     "text": [
      "                                                                    \r"
     ]
    },
    {
     "name": "stdout",
     "output_type": "stream",
     "text": [
      "Epoch   4 / 50 :  Train Loss: 0.00937091, Valid Loss: 0.00630900, Train acc: 0.71007710, Valid acc: 0.90409982\n"
     ]
    },
    {
     "name": "stderr",
     "output_type": "stream",
     "text": [
      "                                                                    \r"
     ]
    },
    {
     "name": "stdout",
     "output_type": "stream",
     "text": [
      "Epoch   5 / 50 :  Train Loss: 0.00648170, Valid Loss: 0.00598317, Train acc: 0.89370237, Valid acc: 0.92905526\n"
     ]
    },
    {
     "name": "stderr",
     "output_type": "stream",
     "text": [
      "                                                                    \r"
     ]
    },
    {
     "name": "stdout",
     "output_type": "stream",
     "text": [
      "Epoch   6 / 50 :  Train Loss: 0.00614159, Valid Loss: 0.00593219, Train acc: 0.91736863, Valid acc: 0.93101604\n"
     ]
    },
    {
     "name": "stderr",
     "output_type": "stream",
     "text": [
      "                                                                    \r"
     ]
    },
    {
     "name": "stdout",
     "output_type": "stream",
     "text": [
      "Epoch   7 / 50 :  Train Loss: 0.00607679, Valid Loss: 0.00595800, Train acc: 0.92137986, Valid acc: 0.93048128\n"
     ]
    },
    {
     "name": "stderr",
     "output_type": "stream",
     "text": [
      "                                                                    \r"
     ]
    },
    {
     "name": "stdout",
     "output_type": "stream",
     "text": [
      "Epoch   8 / 50 :  Train Loss: 0.00590456, Valid Loss: 0.00575535, Train acc: 0.93323528, Valid acc: 0.94242424\n"
     ]
    },
    {
     "name": "stderr",
     "output_type": "stream",
     "text": [
      "                                                                    \r"
     ]
    },
    {
     "name": "stdout",
     "output_type": "stream",
     "text": [
      "Epoch   9 / 50 :  Train Loss: 0.00588127, Valid Loss: 0.00579528, Train acc: 0.93479520, Valid acc: 0.93975045\n"
     ]
    },
    {
     "name": "stderr",
     "output_type": "stream",
     "text": [
      "                                                                     \r"
     ]
    },
    {
     "name": "stdout",
     "output_type": "stream",
     "text": [
      "Epoch  10 / 50 :  Train Loss: 0.00572271, Valid Loss: 0.00613128, Train acc: 0.94526898, Valid acc: 0.92245989\n"
     ]
    },
    {
     "name": "stderr",
     "output_type": "stream",
     "text": [
      "                                                                     \r"
     ]
    },
    {
     "name": "stdout",
     "output_type": "stream",
     "text": [
      "Epoch  11 / 50 :  Train Loss: 0.00571969, Valid Loss: 0.00569516, Train acc: 0.94575924, Valid acc: 0.94830660\n"
     ]
    },
    {
     "name": "stderr",
     "output_type": "stream",
     "text": [
      "                                                                     \r"
     ]
    },
    {
     "name": "stdout",
     "output_type": "stream",
     "text": [
      "Epoch  12 / 50 :  Train Loss: 0.00573939, Valid Loss: 0.00563283, Train acc: 0.94419931, Valid acc: 0.95008913\n"
     ]
    },
    {
     "name": "stderr",
     "output_type": "stream",
     "text": [
      "                                                                     \r"
     ]
    },
    {
     "name": "stdout",
     "output_type": "stream",
     "text": [
      "Epoch  13 / 50 :  Train Loss: 0.00563981, Valid Loss: 0.00557819, Train acc: 0.95110755, Valid acc: 0.95632799\n"
     ]
    },
    {
     "name": "stderr",
     "output_type": "stream",
     "text": [
      "                                                                     \r"
     ]
    },
    {
     "name": "stdout",
     "output_type": "stream",
     "text": [
      "Epoch  14 / 50 :  Train Loss: 0.00563082, Valid Loss: 0.00557575, Train acc: 0.95115211, Valid acc: 0.95561497\n"
     ]
    },
    {
     "name": "stderr",
     "output_type": "stream",
     "text": [
      "                                                                     \r"
     ]
    },
    {
     "name": "stdout",
     "output_type": "stream",
     "text": [
      "Epoch  15 / 50 :  Train Loss: 0.00556683, Valid Loss: 0.00552492, Train acc: 0.95534162, Valid acc: 0.95775401\n"
     ]
    },
    {
     "name": "stderr",
     "output_type": "stream",
     "text": [
      "                                                                     \r"
     ]
    },
    {
     "name": "stdout",
     "output_type": "stream",
     "text": [
      "Epoch  16 / 50 :  Train Loss: 0.00571412, Valid Loss: 0.00598157, Train acc: 0.94727459, Valid acc: 0.92780749\n"
     ]
    },
    {
     "name": "stderr",
     "output_type": "stream",
     "text": [
      "                                                                     \r"
     ]
    },
    {
     "name": "stdout",
     "output_type": "stream",
     "text": [
      "Epoch  17 / 50 :  Train Loss: 0.00555713, Valid Loss: 0.00558960, Train acc: 0.95654499, Valid acc: 0.95579323\n"
     ]
    },
    {
     "name": "stderr",
     "output_type": "stream",
     "text": [
      "                                                                     \r"
     ]
    },
    {
     "name": "stdout",
     "output_type": "stream",
     "text": [
      "Epoch  18 / 50 :  Train Loss: 0.00563587, Valid Loss: 0.00558765, Train acc: 0.95213264, Valid acc: 0.95579323\n"
     ]
    },
    {
     "name": "stderr",
     "output_type": "stream",
     "text": [
      "                                                                     \r"
     ]
    },
    {
     "name": "stdout",
     "output_type": "stream",
     "text": [
      "Epoch  19 / 50 :  Train Loss: 0.00549899, Valid Loss: 0.00548404, Train acc: 0.96024424, Valid acc: 0.96114082\n"
     ]
    },
    {
     "name": "stderr",
     "output_type": "stream",
     "text": [
      "                                                                     \r"
     ]
    },
    {
     "name": "stdout",
     "output_type": "stream",
     "text": [
      "Epoch  20 / 50 :  Train Loss: 0.00555303, Valid Loss: 0.00557358, Train acc: 0.95667870, Valid acc: 0.95632799\n"
     ]
    },
    {
     "name": "stderr",
     "output_type": "stream",
     "text": [
      "                                                                     \r"
     ]
    },
    {
     "name": "stdout",
     "output_type": "stream",
     "text": [
      "Epoch  21 / 50 :  Train Loss: 0.00553687, Valid Loss: 0.00544762, Train acc: 0.95810492, Valid acc: 0.96488414\n"
     ]
    },
    {
     "name": "stderr",
     "output_type": "stream",
     "text": [
      "                                                                     \r"
     ]
    },
    {
     "name": "stdout",
     "output_type": "stream",
     "text": [
      "Epoch  22 / 50 :  Train Loss: 0.00551424, Valid Loss: 0.00547513, Train acc: 0.95872889, Valid acc: 0.96131907\n"
     ]
    },
    {
     "name": "stderr",
     "output_type": "stream",
     "text": [
      "                                                                     \r"
     ]
    },
    {
     "name": "stdout",
     "output_type": "stream",
     "text": [
      "Epoch  23 / 50 :  Train Loss: 0.00543661, Valid Loss: 0.00551674, Train acc: 0.96536970, Valid acc: 0.95864528\n"
     ]
    },
    {
     "name": "stderr",
     "output_type": "stream",
     "text": [
      "                                                                     \r"
     ]
    },
    {
     "name": "stdout",
     "output_type": "stream",
     "text": [
      "Epoch  24 / 50 :  Train Loss: 0.00545451, Valid Loss: 0.00607779, Train acc: 0.96380978, Valid acc: 0.92495544\n"
     ]
    },
    {
     "name": "stderr",
     "output_type": "stream",
     "text": [
      "                                                                     \r"
     ]
    },
    {
     "name": "stdout",
     "output_type": "stream",
     "text": [
      "Epoch  25 / 50 :  Train Loss: 0.00556877, Valid Loss: 0.00552651, Train acc: 0.95601016, Valid acc: 0.96060606\n"
     ]
    },
    {
     "name": "stderr",
     "output_type": "stream",
     "text": [
      "                                                                     \r"
     ]
    },
    {
     "name": "stdout",
     "output_type": "stream",
     "text": [
      "Epoch  26 / 50 :  Train Loss: 0.00544663, Valid Loss: 0.00547219, Train acc: 0.96340866, Valid acc: 0.96399287\n"
     ]
    },
    {
     "name": "stderr",
     "output_type": "stream",
     "text": [
      "                                                                     \r"
     ]
    },
    {
     "name": "stdout",
     "output_type": "stream",
     "text": [
      "Epoch  27 / 50 :  Train Loss: 0.00544658, Valid Loss: 0.00554112, Train acc: 0.96438918, Valid acc: 0.95739750\n"
     ]
    },
    {
     "name": "stderr",
     "output_type": "stream",
     "text": [
      "                                                                     \r"
     ]
    },
    {
     "name": "stdout",
     "output_type": "stream",
     "text": [
      "Epoch  28 / 50 :  Train Loss: 0.00546125, Valid Loss: 0.00547187, Train acc: 0.96265098, Valid acc: 0.96399287\n"
     ]
    },
    {
     "name": "stderr",
     "output_type": "stream",
     "text": [
      "                                                                     \r"
     ]
    },
    {
     "name": "stdout",
     "output_type": "stream",
     "text": [
      "Epoch  29 / 50 :  Train Loss: 0.00547522, Valid Loss: 0.00548457, Train acc: 0.96256184, Valid acc: 0.96310160\n"
     ]
    },
    {
     "name": "stderr",
     "output_type": "stream",
     "text": [
      "                                                                     \r"
     ]
    },
    {
     "name": "stdout",
     "output_type": "stream",
     "text": [
      "Epoch  30 / 50 :  Train Loss: 0.00543910, Valid Loss: 0.00579570, Train acc: 0.96438918, Valid acc: 0.94099822\n"
     ]
    },
    {
     "name": "stderr",
     "output_type": "stream",
     "text": [
      "                                                                     \r"
     ]
    },
    {
     "name": "stdout",
     "output_type": "stream",
     "text": [
      "Epoch  31 / 50 :  Train Loss: 0.00543568, Valid Loss: 0.00545432, Train acc: 0.96425547, Valid acc: 0.96399287\n"
     ]
    },
    {
     "name": "stderr",
     "output_type": "stream",
     "text": [
      "                                                                     \r"
     ]
    },
    {
     "name": "stdout",
     "output_type": "stream",
     "text": [
      "Epoch  32 / 50 :  Train Loss: 0.00545819, Valid Loss: 0.00574913, Train acc: 0.96372064, Valid acc: 0.94313725\n"
     ]
    },
    {
     "name": "stderr",
     "output_type": "stream",
     "text": [
      "                                                                     \r"
     ]
    },
    {
     "name": "stdout",
     "output_type": "stream",
     "text": [
      "Epoch  33 / 50 :  Train Loss: 0.00542531, Valid Loss: 0.00544372, Train acc: 0.96501315, Valid acc: 0.96559715\n"
     ]
    },
    {
     "name": "stderr",
     "output_type": "stream",
     "text": [
      "                                                                     \r"
     ]
    },
    {
     "name": "stdout",
     "output_type": "stream",
     "text": [
      "Epoch  34 / 50 :  Train Loss: 0.00540830, Valid Loss: 0.00552545, Train acc: 0.96617195, Valid acc: 0.95918004\n"
     ]
    },
    {
     "name": "stderr",
     "output_type": "stream",
     "text": [
      "                                                                     \r"
     ]
    },
    {
     "name": "stdout",
     "output_type": "stream",
     "text": [
      "Epoch  35 / 50 :  Train Loss: 0.00542175, Valid Loss: 0.00546145, Train acc: 0.96612738, Valid acc: 0.96381462\n"
     ]
    },
    {
     "name": "stderr",
     "output_type": "stream",
     "text": [
      "                                                                     \r"
     ]
    },
    {
     "name": "stdout",
     "output_type": "stream",
     "text": [
      "Epoch  36 / 50 :  Train Loss: 0.00540445, Valid Loss: 0.00551654, Train acc: 0.96657307, Valid acc: 0.96024955\n"
     ]
    },
    {
     "name": "stderr",
     "output_type": "stream",
     "text": [
      "                                                                     \r"
     ]
    },
    {
     "name": "stdout",
     "output_type": "stream",
     "text": [
      "Epoch  37 / 50 :  Train Loss: 0.00544050, Valid Loss: 0.00549082, Train acc: 0.96434461, Valid acc: 0.96310160\n"
     ]
    },
    {
     "name": "stderr",
     "output_type": "stream",
     "text": [
      "                                                                     \r"
     ]
    },
    {
     "name": "stdout",
     "output_type": "stream",
     "text": [
      "Epoch  38 / 50 :  Train Loss: 0.00540066, Valid Loss: 0.00559898, Train acc: 0.96737532, Valid acc: 0.95508021\n"
     ]
    },
    {
     "name": "stderr",
     "output_type": "stream",
     "text": [
      "                                                                     \r"
     ]
    },
    {
     "name": "stdout",
     "output_type": "stream",
     "text": [
      "Epoch  39 / 50 :  Train Loss: 0.00545875, Valid Loss: 0.00596150, Train acc: 0.96354236, Valid acc: 0.93155080\n"
     ]
    },
    {
     "name": "stderr",
     "output_type": "stream",
     "text": [
      "                                                                     \r"
     ]
    },
    {
     "name": "stdout",
     "output_type": "stream",
     "text": [
      "Epoch  40 / 50 :  Train Loss: 0.00539395, Valid Loss: 0.00575862, Train acc: 0.96773187, Valid acc: 0.94509804\n"
     ]
    },
    {
     "name": "stderr",
     "output_type": "stream",
     "text": [
      "                                                                     \r"
     ]
    },
    {
     "name": "stdout",
     "output_type": "stream",
     "text": [
      "Epoch  41 / 50 :  Train Loss: 0.00544138, Valid Loss: 0.00579044, Train acc: 0.96470116, Valid acc: 0.94224599\n"
     ]
    },
    {
     "name": "stderr",
     "output_type": "stream",
     "text": [
      "                                                                     \r"
     ]
    },
    {
     "name": "stdout",
     "output_type": "stream",
     "text": [
      "Epoch  42 / 50 :  Train Loss: 0.00544608, Valid Loss: 0.00544920, Train acc: 0.96407719, Valid acc: 0.96506239\n"
     ]
    },
    {
     "name": "stderr",
     "output_type": "stream",
     "text": [
      "                                                                     \r"
     ]
    },
    {
     "name": "stdout",
     "output_type": "stream",
     "text": [
      "Epoch  43 / 50 :  Train Loss: 0.00538916, Valid Loss: 0.00542957, Train acc: 0.96786558, Valid acc: 0.96541889\n"
     ]
    },
    {
     "name": "stderr",
     "output_type": "stream",
     "text": [
      "                                                                     \r"
     ]
    },
    {
     "name": "stdout",
     "output_type": "stream",
     "text": [
      "Epoch  44 / 50 :  Train Loss: 0.00542020, Valid Loss: 0.00546742, Train acc: 0.96577082, Valid acc: 0.96363636\n"
     ]
    },
    {
     "name": "stderr",
     "output_type": "stream",
     "text": [
      "                                                                     \r"
     ]
    },
    {
     "name": "stdout",
     "output_type": "stream",
     "text": [
      "Epoch  45 / 50 :  Train Loss: 0.00540230, Valid Loss: 0.00544231, Train acc: 0.96710790, Valid acc: 0.96524064\n"
     ]
    },
    {
     "name": "stderr",
     "output_type": "stream",
     "text": [
      "                                                                     \r"
     ]
    },
    {
     "name": "stdout",
     "output_type": "stream",
     "text": [
      "Epoch  46 / 50 :  Train Loss: 0.00543178, Valid Loss: 0.00542556, Train acc: 0.96523599, Valid acc: 0.96595365\n"
     ]
    },
    {
     "name": "stderr",
     "output_type": "stream",
     "text": [
      "                                                                     \r"
     ]
    },
    {
     "name": "stdout",
     "output_type": "stream",
     "text": [
      "Epoch  47 / 50 :  Train Loss: 0.00535227, Valid Loss: 0.00555136, Train acc: 0.96987119, Valid acc: 0.95918004\n"
     ]
    },
    {
     "name": "stderr",
     "output_type": "stream",
     "text": [
      "                                                                     \r"
     ]
    },
    {
     "name": "stdout",
     "output_type": "stream",
     "text": [
      "Epoch  48 / 50 :  Train Loss: 0.00539440, Valid Loss: 0.00548411, Train acc: 0.96773187, Valid acc: 0.96131907\n"
     ]
    },
    {
     "name": "stderr",
     "output_type": "stream",
     "text": [
      "                                                                     \r"
     ]
    },
    {
     "name": "stdout",
     "output_type": "stream",
     "text": [
      "Epoch  49 / 50 :  Train Loss: 0.00540090, Valid Loss: 0.00545473, Train acc: 0.96643936, Valid acc: 0.96470588\n"
     ]
    },
    {
     "name": "stderr",
     "output_type": "stream",
     "text": [
      "                                                                     "
     ]
    },
    {
     "name": "stdout",
     "output_type": "stream",
     "text": [
      "Epoch  50 / 50 :  Train Loss: 0.00536320, Valid Loss: 0.00538968, Train acc: 0.96982663, Valid acc: 0.96862745\n"
     ]
    },
    {
     "name": "stderr",
     "output_type": "stream",
     "text": [
      "\r"
     ]
    }
   ],
   "source": [
    "for epoch in range(num_epochs):\n",
    "\n",
    "    # training\n",
    "    mlp.train()\n",
    "    steps = len(train_loader)\n",
    "    total_loss, acc, count = 0, 0, 0\n",
    "    for features, labels in tqdm(train_loader, total=steps, desc=f'Training Epoch {epoch+1}', leave=False):\n",
    "        features, labels = features.to(default_device), labels.to(default_device)\n",
    "        optimizer.zero_grad()\n",
    "        outputs = mlp(features)\n",
    "        loss = criterion(outputs, labels)\n",
    "        loss.backward()\n",
    "        optimizer.step()\n",
    "        total_loss+=loss\n",
    "        predicted_value = torch.argmax(outputs, 1)\n",
    "        acc+=(predicted_value==labels).sum()\n",
    "        count+=len(labels)\n",
    "    tl,ta = total_loss.item()/count, acc.item()/count\n",
    "    history['train_loss'].append(tl)\n",
    "    history['train_acc'].append(ta)\n",
    "\n",
    "    # validation\n",
    "    mlp.eval()\n",
    "    steps = len(valid_loader)\n",
    "    total_loss, acc, count = 0, 0, 0\n",
    "    for features, labels in tqdm(valid_loader, total=steps, desc=f'Validating Epoch {epoch+1}', leave=False):\n",
    "        with torch.no_grad():\n",
    "            features, labels = features.to(default_device), labels.to(default_device)\n",
    "            outputs = mlp(features)\n",
    "            loss = criterion(outputs, labels)\n",
    "            total_loss+=loss\n",
    "            predicted_value = torch.argmax(outputs, 1)\n",
    "            acc+=(predicted_value==labels).sum()\n",
    "            count+=len(labels)\n",
    "    vl,va = total_loss.item()/count, acc.item()/count\n",
    "    history['val_loss'].append(vl)\n",
    "    history['val_acc'].append(va)\n",
    "\n",
    "    # save net parameters\n",
    "    if vl <= min_loss:\n",
    "        torch.save(mlp.state_dict(), 'best_net.pth')\n",
    "        min_loss = vl\n",
    "    torch.save(mlp.state_dict(), 'last_epoch_net.pth')\n",
    "\n",
    "    print(f'Epoch {epoch+1:3} / {num_epochs} :  Train Loss: {tl:.8f}, Valid Loss: {vl:.8f}, Train acc: {ta:.8f}, Valid acc: {va:.8f}')"
   ]
  },
  {
   "cell_type": "code",
   "execution_count": 208,
   "metadata": {},
   "outputs": [
    {
     "data": {
      "image/png": "[encoded data removed]",
      "text/plain": [
       "<Figure size 640x480 with 1 Axes>"
      ]
     },
     "metadata": {},
     "output_type": "display_data"
    }
   ],
   "source": [
    "plt.plot(history['train_loss'], label='Training loss')\n",
    "plt.plot(history['val_loss'], label='Validation loss')\n",
    "plt.legend()\n",
    "plt.grid()\n",
    "plt.show()"
   ]
  },
  {
   "cell_type": "code",
   "execution_count": 209,
   "metadata": {},
   "outputs": [
    {
     "data": {
      "image/png": "[encoded data removed]",
      "text/plain": [
       "<Figure size 640x480 with 1 Axes>"
      ]
     },
     "metadata": {},
     "output_type": "display_data"
    }
   ],
   "source": [
    "plt.plot(history['train_acc'], label='Training acc')\n",
    "plt.plot(history['val_acc'], label='Validation acc')\n",
    "plt.legend()\n",
    "plt.grid()\n",
    "plt.show()"
   ]
  },
  {
   "cell_type": "markdown",
   "metadata": {},
   "source": [
    "## Evaluation"
   ]
  },
  {
   "cell_type": "code",
   "execution_count": 221,
   "metadata": {},
   "outputs": [],
   "source": [
    "with torch.no_grad():\n",
    "    predicted = torch.tensor([]).to(default_device)\n",
    "    Y_true = torch.tensor([]).to(default_device)\n",
    "    for features, label in valid_loader:\n",
    "        predicted = torch.concat([predicted, mlp(features.to(default_device))])\n",
    "        Y_true = torch.concat([Y_true,label.to(default_device)])\n",
    "    predicted = predicted.argmax(-1)\n",
    "\n",
    "predicted = predicted.cpu().numpy()\n",
    "Y_true = Y_true.cpu().numpy()"
   ]
  },
  {
   "cell_type": "code",
   "execution_count": 222,
   "metadata": {},
   "outputs": [
    {
     "name": "stdout",
     "output_type": "stream",
     "text": [
      "Accuracy = 0.9686274509803922 \n",
      "Precision = 0.9756748739246515 \n",
      "f1_Score = 0.9739413680781759 \n",
      "Recall = 0.9722140112326337\n"
     ]
    }
   ],
   "source": [
    "accuracy = accuracy_score(Y_true, predicted)\n",
    "precision = precision_score(Y_true, predicted)\n",
    "recall = recall_score(Y_true, predicted)\n",
    "f1 = f1_score(Y_true, predicted)\n",
    "print(f'Accuracy = {accuracy} \\nPrecision = {precision} \\nf1_Score = {f1} \\nRecall = {recall}')"
   ]
  },
  {
   "cell_type": "code",
   "execution_count": 234,
   "metadata": {},
   "outputs": [
    {
     "data": {
      "image/png": "[encoded data removed]",
      "text/plain": [
       "<Figure size 640x480 with 2 Axes>"
      ]
     },
     "metadata": {},
     "output_type": "display_data"
    }
   ],
   "source": [
    "cm = confusion_matrix(Y_true, predicted)\n",
    "disp = ConfusionMatrixDisplay(confusion_matrix=cm)\n",
    "disp.plot(cmap=plt.cm.Blues)\n",
    "plt.show()"
   ]
  },
  {
   "cell_type": "markdown",
   "metadata": {},
   "source": [
    "## rest"
   ]
  }
 ],
 "metadata": {
  "kernelspec": {
   "display_name": "Python 3",
   "language": "python",
   "name": "python3"
  },
  "language_info": {
   "codemirror_mode": {
    "name": "ipython",
    "version": 3
   },
   "file_extension": ".py",
   "mimetype": "text/x-python",
   "name": "python",
   "nbconvert_exporter": "python",
   "pygments_lexer": "ipython3",
   "version": "3.12.3"
  }
 },
 "nbformat": 4,
 "nbformat_minor": 2
}
